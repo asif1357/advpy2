{
 "cells": [
  {
   "cell_type": "markdown",
   "id": "ff1928dd",
   "metadata": {},
   "source": [
    "# Asisgnment 2\n",
    "1. module is like another python file in which we can have multiple classes\n",
    "2. we can make instances of a class by creating its objects(as many as we wish)\n",
    "3. class attributes are created inside class itself and we can make them class attributes or instance attributes\n",
    "   we use @classmethod for class methods and defining variables outside methods \n",
    "4. instance attributes are created inside class itself by using self\n",
    "5. the term self refers to current class object we can initialise the instance methods and variables using self\n",
    "6. there multiple methods to overload the operator for example for + we use __add__(),for - we use __sub__() likewise\n",
    "7. operator overloading is only allowed when the respective method is present in class itself\n",
    "8. A very popular and convenient example is the Addition (+) operator\n",
    "9. inheritance and polymorphism"
   ]
  }
 ],
 "metadata": {
  "kernelspec": {
   "display_name": "Python 3 (ipykernel)",
   "language": "python",
   "name": "python3"
  },
  "language_info": {
   "codemirror_mode": {
    "name": "ipython",
    "version": 3
   },
   "file_extension": ".py",
   "mimetype": "text/x-python",
   "name": "python",
   "nbconvert_exporter": "python",
   "pygments_lexer": "ipython3",
   "version": "3.9.12"
  }
 },
 "nbformat": 4,
 "nbformat_minor": 5
}
